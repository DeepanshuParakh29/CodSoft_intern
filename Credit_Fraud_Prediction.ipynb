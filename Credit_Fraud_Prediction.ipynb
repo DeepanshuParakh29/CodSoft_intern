{
 "cells": [
  {
   "cell_type": "code",
   "execution_count": null,
   "metadata": {
    "execution": {
     "iopub.execute_input": "2024-04-17T16:56:53.263724Z",
     "iopub.status.busy": "2024-04-17T16:56:53.26315Z",
     "iopub.status.idle": "2024-04-17T16:56:54.717683Z",
     "shell.execute_reply": "2024-04-17T16:56:54.716493Z",
     "shell.execute_reply.started": "2024-04-17T16:56:53.263687Z"
    },
    "executionInfo": {
     "elapsed": 180,
     "status": "ok",
     "timestamp": 1713372425395,
     "user": {
      "displayName": "Savir D",
      "userId": "07650373782868128467"
     },
     "user_tz": 420
    },
    "id": "9lc3kqoKOcoY"
   },
   "outputs": [],
   "source": [
    "import pandas as pd\n",
    "import matplotlib.pyplot as plt\n",
    "import numpy as np"
   ]
  },
  {
   "cell_type": "code",
   "execution_count": null,
   "metadata": {
    "execution": {
     "iopub.execute_input": "2024-04-17T16:56:54.721788Z",
     "iopub.status.busy": "2024-04-17T16:56:54.720394Z",
     "iopub.status.idle": "2024-04-17T16:57:09.037005Z",
     "shell.execute_reply": "2024-04-17T16:57:09.035513Z",
     "shell.execute_reply.started": "2024-04-17T16:56:54.721735Z"
    },
    "executionInfo": {
     "elapsed": 3658,
     "status": "ok",
     "timestamp": 1713372429270,
     "user": {
      "displayName": "Savir D",
      "userId": "07650373782868128467"
     },
     "user_tz": 420
    },
    "id": "WBEJ-S91OP7t"
   },
   "outputs": [],
   "source": [
    "fraudTrain_df = pd.read_csv('fraudTrain.csv')"
   ]
  },
  {
   "cell_type": "code",
   "execution_count": null,
   "metadata": {
    "execution": {
     "iopub.execute_input": "2024-04-17T16:57:09.045493Z",
     "iopub.status.busy": "2024-04-17T16:57:09.045067Z",
     "iopub.status.idle": "2024-04-17T16:57:09.059036Z",
     "shell.execute_reply": "2024-04-17T16:57:09.057479Z",
     "shell.execute_reply.started": "2024-04-17T16:57:09.045457Z"
    },
    "executionInfo": {
     "elapsed": 2,
     "status": "ok",
     "timestamp": 1713372429270,
     "user": {
      "displayName": "Savir D",
      "userId": "07650373782868128467"
     },
     "user_tz": 420
    },
    "id": "ThEWuyeq3J-D"
   },
   "outputs": [],
   "source": [
    "fraudTrain_df['is_fraud'] = fraudTrain_df['is_fraud'].astype(bool)\n"
   ]
  },
  {
   "cell_type": "code",
   "execution_count": null,
   "metadata": {
    "execution": {
     "iopub.execute_input": "2024-04-17T16:57:09.060777Z",
     "iopub.status.busy": "2024-04-17T16:57:09.060307Z",
     "iopub.status.idle": "2024-04-17T16:57:10.899735Z",
     "shell.execute_reply": "2024-04-17T16:57:10.89831Z",
     "shell.execute_reply.started": "2024-04-17T16:57:09.060733Z"
    },
    "executionInfo": {
     "elapsed": 335,
     "status": "ok",
     "timestamp": 1713372429604,
     "user": {
      "displayName": "Savir D",
      "userId": "07650373782868128467"
     },
     "user_tz": 420
    },
    "id": "CyslJxMs890J",
    "outputId": "96367507-c679-4907-a517-d7149a2dff19"
   },
   "outputs": [],
   "source": [
    "fraudTrain_df.info()"
   ]
  },
  {
   "cell_type": "code",
   "execution_count": null,
   "metadata": {
    "execution": {
     "iopub.execute_input": "2024-04-17T16:57:10.901419Z",
     "iopub.status.busy": "2024-04-17T16:57:10.901086Z",
     "iopub.status.idle": "2024-04-17T16:57:10.946026Z",
     "shell.execute_reply": "2024-04-17T16:57:10.944677Z",
     "shell.execute_reply.started": "2024-04-17T16:57:10.901386Z"
    },
    "executionInfo": {
     "elapsed": 2,
     "status": "ok",
     "timestamp": 1713372429604,
     "user": {
      "displayName": "Savir D",
      "userId": "07650373782868128467"
     },
     "user_tz": 420
    },
    "id": "bnYfGpW9OoRf",
    "outputId": "ff2159a2-110f-4dce-99c7-726afc00eb40"
   },
   "outputs": [],
   "source": [
    "fraudTrain_df.head()"
   ]
  },
  {
   "cell_type": "code",
   "execution_count": null,
   "metadata": {
    "execution": {
     "iopub.execute_input": "2024-04-17T16:57:10.94839Z",
     "iopub.status.busy": "2024-04-17T16:57:10.947973Z",
     "iopub.status.idle": "2024-04-17T16:57:12.927357Z",
     "shell.execute_reply": "2024-04-17T16:57:12.92607Z",
     "shell.execute_reply.started": "2024-04-17T16:57:10.948354Z"
    },
    "executionInfo": {
     "elapsed": 293,
     "status": "ok",
     "timestamp": 1713372429896,
     "user": {
      "displayName": "Savir D",
      "userId": "07650373782868128467"
     },
     "user_tz": 420
    },
    "id": "ogGEq-3-Ot0M"
   },
   "outputs": [],
   "source": [
    "fraudTrain_df.dropna(inplace=True)"
   ]
  },
  {
   "cell_type": "code",
   "execution_count": null,
   "metadata": {
    "execution": {
     "iopub.execute_input": "2024-04-17T16:57:12.929599Z",
     "iopub.status.busy": "2024-04-17T16:57:12.929007Z",
     "iopub.status.idle": "2024-04-17T16:57:13.057739Z",
     "shell.execute_reply": "2024-04-17T16:57:13.055407Z",
     "shell.execute_reply.started": "2024-04-17T16:57:12.929538Z"
    },
    "executionInfo": {
     "elapsed": 7,
     "status": "ok",
     "timestamp": 1713372429896,
     "user": {
      "displayName": "Savir D",
      "userId": "07650373782868128467"
     },
     "user_tz": 420
    },
    "id": "-88TVorMUI6L"
   },
   "outputs": [],
   "source": [
    "fraudTrain_df = fraudTrain_df[['cc_num','amt','lat','long','merch_lat','merch_long','is_fraud']]\n",
    "X = fraudTrain_df\n",
    "y = fraudTrain_df['is_fraud']"
   ]
  },
  {
   "cell_type": "code",
   "execution_count": null,
   "metadata": {
    "execution": {
     "iopub.execute_input": "2024-04-17T16:57:13.060105Z",
     "iopub.status.busy": "2024-04-17T16:57:13.059571Z",
     "iopub.status.idle": "2024-04-17T16:57:13.095927Z",
     "shell.execute_reply": "2024-04-17T16:57:13.09464Z",
     "shell.execute_reply.started": "2024-04-17T16:57:13.060049Z"
    },
    "executionInfo": {
     "elapsed": 6,
     "status": "ok",
     "timestamp": 1713372429896,
     "user": {
      "displayName": "Savir D",
      "userId": "07650373782868128467"
     },
     "user_tz": 420
    },
    "id": "LqJ1-Dti0v-o",
    "outputId": "cbc0a032-ae0d-4306-abab-695dc85f068a"
   },
   "outputs": [],
   "source": [
    "X.drop('is_fraud',axis=1,inplace=True)"
   ]
  },
  {
   "cell_type": "code",
   "execution_count": null,
   "metadata": {
    "execution": {
     "iopub.execute_input": "2024-04-17T16:57:13.101222Z",
     "iopub.status.busy": "2024-04-17T16:57:13.1008Z",
     "iopub.status.idle": "2024-04-17T16:57:13.12226Z",
     "shell.execute_reply": "2024-04-17T16:57:13.12125Z",
     "shell.execute_reply.started": "2024-04-17T16:57:13.101185Z"
    },
    "executionInfo": {
     "elapsed": 5,
     "status": "ok",
     "timestamp": 1713372429896,
     "user": {
      "displayName": "Savir D",
      "userId": "07650373782868128467"
     },
     "user_tz": 420
    },
    "id": "1y27pTdL05c3",
    "outputId": "cf7014ec-dc0e-4bcf-efdb-f512f1178f3e"
   },
   "outputs": [],
   "source": [
    "X"
   ]
  },
  {
   "cell_type": "code",
   "execution_count": null,
   "metadata": {
    "execution": {
     "iopub.execute_input": "2024-04-17T16:57:13.12375Z",
     "iopub.status.busy": "2024-04-17T16:57:13.123402Z",
     "iopub.status.idle": "2024-04-17T16:57:13.157457Z",
     "shell.execute_reply": "2024-04-17T16:57:13.156524Z",
     "shell.execute_reply.started": "2024-04-17T16:57:13.123721Z"
    },
    "executionInfo": {
     "elapsed": 6,
     "status": "ok",
     "timestamp": 1713372429897,
     "user": {
      "displayName": "Savir D",
      "userId": "07650373782868128467"
     },
     "user_tz": 420
    },
    "id": "Kr9L7vzUPDNu",
    "outputId": "4509e07a-310b-4499-df82-506a65db78c6"
   },
   "outputs": [],
   "source": [
    "fraudTrain_df.info()"
   ]
  },
  {
   "cell_type": "code",
   "execution_count": null,
   "metadata": {
    "execution": {
     "iopub.execute_input": "2024-04-17T16:57:13.159722Z",
     "iopub.status.busy": "2024-04-17T16:57:13.159294Z",
     "iopub.status.idle": "2024-04-17T16:57:13.178138Z",
     "shell.execute_reply": "2024-04-17T16:57:13.17696Z",
     "shell.execute_reply.started": "2024-04-17T16:57:13.159684Z"
    },
    "executionInfo": {
     "elapsed": 5,
     "status": "ok",
     "timestamp": 1713372429897,
     "user": {
      "displayName": "Savir D",
      "userId": "07650373782868128467"
     },
     "user_tz": 420
    },
    "id": "5AGjW7rVV5LG",
    "outputId": "3ee9079a-121b-47f9-d7e9-c1316ca30588"
   },
   "outputs": [],
   "source": [
    "fraudTrain_df.head(10)"
   ]
  },
  {
   "cell_type": "code",
   "execution_count": null,
   "metadata": {
    "execution": {
     "iopub.execute_input": "2024-04-17T16:57:13.180462Z",
     "iopub.status.busy": "2024-04-17T16:57:13.179848Z",
     "iopub.status.idle": "2024-04-17T16:57:13.1954Z",
     "shell.execute_reply": "2024-04-17T16:57:13.193249Z",
     "shell.execute_reply.started": "2024-04-17T16:57:13.180419Z"
    },
    "executionInfo": {
     "elapsed": 4,
     "status": "ok",
     "timestamp": 1713372429897,
     "user": {
      "displayName": "Savir D",
      "userId": "07650373782868128467"
     },
     "user_tz": 420
    },
    "id": "N2F5JcDjScd7"
   },
   "outputs": [],
   "source": [
    "sample_cc_df = fraudTrain_df[fraudTrain_df.cc_num==4767265376804500]"
   ]
  },
  {
   "cell_type": "code",
   "execution_count": null,
   "metadata": {
    "execution": {
     "iopub.execute_input": "2024-04-17T16:57:13.198756Z",
     "iopub.status.busy": "2024-04-17T16:57:13.198246Z",
     "iopub.status.idle": "2024-04-17T16:57:13.219134Z",
     "shell.execute_reply": "2024-04-17T16:57:13.218102Z",
     "shell.execute_reply.started": "2024-04-17T16:57:13.198699Z"
    },
    "executionInfo": {
     "elapsed": 170,
     "status": "ok",
     "timestamp": 1713372430063,
     "user": {
      "displayName": "Savir D",
      "userId": "07650373782868128467"
     },
     "user_tz": 420
    },
    "id": "bfHG1j-01dQO",
    "outputId": "d4c928a4-6294-4fae-a249-372018ab3b7a"
   },
   "outputs": [],
   "source": [
    "sample_cc_df"
   ]
  },
  {
   "cell_type": "code",
   "execution_count": null,
   "metadata": {
    "execution": {
     "iopub.execute_input": "2024-04-17T16:57:13.220507Z",
     "iopub.status.busy": "2024-04-17T16:57:13.220173Z",
     "iopub.status.idle": "2024-04-17T16:57:15.451535Z",
     "shell.execute_reply": "2024-04-17T16:57:15.450457Z",
     "shell.execute_reply.started": "2024-04-17T16:57:13.220477Z"
    },
    "executionInfo": {
     "elapsed": 2,
     "status": "ok",
     "timestamp": 1713372430063,
     "user": {
      "displayName": "Savir D",
      "userId": "07650373782868128467"
     },
     "user_tz": 420
    },
    "id": "CY05aClP1gQ_"
   },
   "outputs": [],
   "source": [
    "from sklearn.ensemble import RandomForestClassifier"
   ]
  },
  {
   "cell_type": "code",
   "execution_count": null,
   "metadata": {
    "execution": {
     "iopub.execute_input": "2024-04-17T16:57:15.453553Z",
     "iopub.status.busy": "2024-04-17T16:57:15.45308Z",
     "iopub.status.idle": "2024-04-17T16:57:15.459832Z",
     "shell.execute_reply": "2024-04-17T16:57:15.45852Z",
     "shell.execute_reply.started": "2024-04-17T16:57:15.453509Z"
    },
    "executionInfo": {
     "elapsed": 2,
     "status": "ok",
     "timestamp": 1713372430063,
     "user": {
      "displayName": "Savir D",
      "userId": "07650373782868128467"
     },
     "user_tz": 420
    },
    "id": "tNpj2Y5MVes3"
   },
   "outputs": [],
   "source": [
    "rf_classifier = RandomForestClassifier(n_estimators=100, random_state=42)"
   ]
  },
  {
   "cell_type": "markdown",
   "metadata": {
    "id": "pAV1Vyf619v6"
   },
   "source": [
    "To get accuracy we will split the Train Dataset"
   ]
  },
  {
   "cell_type": "code",
   "execution_count": null,
   "metadata": {
    "execution": {
     "iopub.execute_input": "2024-04-17T16:57:15.462306Z",
     "iopub.status.busy": "2024-04-17T16:57:15.461516Z",
     "iopub.status.idle": "2024-04-17T16:57:15.477043Z",
     "shell.execute_reply": "2024-04-17T16:57:15.475542Z",
     "shell.execute_reply.started": "2024-04-17T16:57:15.462268Z"
    },
    "executionInfo": {
     "elapsed": 2,
     "status": "ok",
     "timestamp": 1713372430063,
     "user": {
      "displayName": "Savir D",
      "userId": "07650373782868128467"
     },
     "user_tz": 420
    },
    "id": "q5iXDyOi2FmB"
   },
   "outputs": [],
   "source": [
    "from sklearn.model_selection import train_test_split"
   ]
  },
  {
   "cell_type": "code",
   "execution_count": null,
   "metadata": {
    "execution": {
     "iopub.execute_input": "2024-04-17T16:57:15.478834Z",
     "iopub.status.busy": "2024-04-17T16:57:15.47849Z",
     "iopub.status.idle": "2024-04-17T16:57:15.691141Z",
     "shell.execute_reply": "2024-04-17T16:57:15.690202Z",
     "shell.execute_reply.started": "2024-04-17T16:57:15.478806Z"
    },
    "executionInfo": {
     "elapsed": 2,
     "status": "ok",
     "timestamp": 1713372430063,
     "user": {
      "displayName": "Savir D",
      "userId": "07650373782868128467"
     },
     "user_tz": 420
    },
    "id": "RIclNZiD2A_d"
   },
   "outputs": [],
   "source": [
    "X_train, X_test, y_train, y_test = train_test_split(X, y, test_size=0.2, random_state=42)"
   ]
  },
  {
   "cell_type": "code",
   "execution_count": null,
   "metadata": {
    "execution": {
     "iopub.execute_input": "2024-04-17T16:57:15.693663Z",
     "iopub.status.busy": "2024-04-17T16:57:15.692545Z",
     "iopub.status.idle": "2024-04-17T17:08:06.356351Z",
     "shell.execute_reply": "2024-04-17T17:08:06.355328Z",
     "shell.execute_reply.started": "2024-04-17T16:57:15.693619Z"
    },
    "executionInfo": {
     "elapsed": 188708,
     "status": "ok",
     "timestamp": 1713372618769,
     "user": {
      "displayName": "Savir D",
      "userId": "07650373782868128467"
     },
     "user_tz": 420
    },
    "id": "qzpVZOON1jpG",
    "outputId": "1a69d768-32c9-4aa4-e6de-acc987fa2faf"
   },
   "outputs": [],
   "source": [
    "rf_classifier.fit(X_train,y_train)\n"
   ]
  },
  {
   "cell_type": "code",
   "execution_count": null,
   "metadata": {
    "execution": {
     "iopub.execute_input": "2024-04-17T17:08:06.358401Z",
     "iopub.status.busy": "2024-04-17T17:08:06.357526Z",
     "iopub.status.idle": "2024-04-17T17:08:10.763312Z",
     "shell.execute_reply": "2024-04-17T17:08:10.761873Z",
     "shell.execute_reply.started": "2024-04-17T17:08:06.358361Z"
    },
    "executionInfo": {
     "elapsed": 1715,
     "status": "ok",
     "timestamp": 1713372620480,
     "user": {
      "displayName": "Savir D",
      "userId": "07650373782868128467"
     },
     "user_tz": 420
    },
    "id": "ciZgBpjD4AKB"
   },
   "outputs": [],
   "source": [
    "y_pred = rf_classifier.predict(X_test)"
   ]
  },
  {
   "cell_type": "code",
   "execution_count": null,
   "metadata": {
    "execution": {
     "iopub.execute_input": "2024-04-17T17:08:10.765158Z",
     "iopub.status.busy": "2024-04-17T17:08:10.764801Z",
     "iopub.status.idle": "2024-04-17T17:08:10.770951Z",
     "shell.execute_reply": "2024-04-17T17:08:10.769413Z",
     "shell.execute_reply.started": "2024-04-17T17:08:10.765128Z"
    },
    "executionInfo": {
     "elapsed": 9,
     "status": "ok",
     "timestamp": 1713372620480,
     "user": {
      "displayName": "Savir D",
      "userId": "07650373782868128467"
     },
     "user_tz": 420
    },
    "id": "N1l0afo35x5Q"
   },
   "outputs": [],
   "source": [
    "from sklearn.metrics import accuracy_score, confusion_matrix, classification_report"
   ]
  },
  {
   "cell_type": "code",
   "execution_count": null,
   "metadata": {
    "execution": {
     "iopub.execute_input": "2024-04-17T17:08:10.773229Z",
     "iopub.status.busy": "2024-04-17T17:08:10.772724Z",
     "iopub.status.idle": "2024-04-17T17:08:11.244201Z",
     "shell.execute_reply": "2024-04-17T17:08:11.242659Z",
     "shell.execute_reply.started": "2024-04-17T17:08:10.773175Z"
    },
    "executionInfo": {
     "elapsed": 8,
     "status": "ok",
     "timestamp": 1713372620480,
     "user": {
      "displayName": "Savir D",
      "userId": "07650373782868128467"
     },
     "user_tz": 420
    },
    "id": "cTj6U58-5z2L",
    "outputId": "b6686ce4-b286-41f0-f5f4-8b5b102c9027"
   },
   "outputs": [],
   "source": [
    "print(\"Accuracy:\", accuracy_score(y_test, y_pred))\n",
    "print(\"Confusion Matrix:\\n\", confusion_matrix(y_test, y_pred))\n",
    "print(\"Classification Report:\\n\", classification_report(y_test, y_pred))"
   ]
  },
  {
   "cell_type": "code",
   "execution_count": null,
   "metadata": {
    "executionInfo": {
     "elapsed": 7,
     "status": "ok",
     "timestamp": 1713372620480,
     "user": {
      "displayName": "Savir D",
      "userId": "07650373782868128467"
     },
     "user_tz": 420
    },
    "id": "lZYN0uXs513T"
   },
   "outputs": [],
   "source": [
    "#testing the model\n",
    "ndf=pd.read_csv('fraudTest.csv')\n",
    "y_new=rf_classifier.predict(ndf)"
   ]
  },
  {
   "cell_type": "code",
   "execution_count": null,
   "metadata": {},
   "outputs": [],
   "source": []
  },
  {
   "cell_type": "code",
   "execution_count": null,
   "metadata": {},
   "outputs": [],
   "source": []
  }
 ],
 "metadata": {
  "colab": {
   "authorship_tag": "ABX9TyOSi85yhSVgbATfThOguWGN",
   "provenance": []
  },
  "kaggle": {
   "accelerator": "none",
   "dataSources": [
    {
     "datasetId": 817870,
     "sourceId": 1399887,
     "sourceType": "datasetVersion"
    }
   ],
   "dockerImageVersionId": 30684,
   "isGpuEnabled": false,
   "isInternetEnabled": false,
   "language": "python",
   "sourceType": "notebook"
  },
  "kernelspec": {
   "display_name": "Python 3",
   "language": "python",
   "name": "python3"
  },
  "language_info": {
   "codemirror_mode": {
    "name": "ipython",
    "version": 3
   },
   "file_extension": ".py",
   "mimetype": "text/x-python",
   "name": "python",
   "nbconvert_exporter": "python",
   "pygments_lexer": "ipython3",
   "version": "3.8.5"
  }
 },
 "nbformat": 4,
 "nbformat_minor": 4
}
